{
 "cells": [
  {
   "cell_type": "code",
   "execution_count": 1,
   "metadata": {
    "collapsed": true
   },
   "outputs": [],
   "source": [
    "import pandas as pd"
   ]
  },
  {
   "cell_type": "code",
   "execution_count": 3,
   "outputs": [],
   "source": [
    "df=pd.read_csv(\"10_Netflix.csv\")"
   ],
   "metadata": {
    "collapsed": false
   }
  },
  {
   "cell_type": "code",
   "execution_count": 17,
   "outputs": [
    {
     "data": {
      "text/plain": "   show_id     type                                   title director  \\\n15     s16  TV Show                       Dear White People      NaN   \n40     s41  TV Show  He-Man and the Masters of the Universe      NaN   \n55     s56  TV Show                               Nailed It      NaN   \n67     s68  TV Show                       Saved by the Bell      NaN   \n82     s83  TV Show                                 Lucifer      NaN   \n\n                                                 cast        country  \\\n15  Logan Browning, Brandon P. Bell, DeRon Horton,...  United States   \n40  Yuri Lowenthal, Kimberly Brooks, Antony Del Ri...  United States   \n55                        Nicole Byer, Jacques Torres  United States   \n67  Mark-Paul Gosselaar, Tiffani Thiessen, Mario L...  United States   \n82  Tom Ellis, Lauren German, Kevin Alejandro, D.B...  United States   \n\n            date_added  release_year rating   duration  \\\n15  September 22, 2021          2021  TV-MA  4 Seasons   \n40  September 16, 2021          2021  TV-Y7   1 Season   \n55  September 15, 2021          2021  TV-PG  6 Seasons   \n67  September 15, 2021          1994  TV-PG  9 Seasons   \n82  September 10, 2021          2021  TV-14  6 Seasons   \n\n                                 listed_in  \\\n15                  TV Comedies, TV Dramas   \n40           Kids' TV, TV Sci-Fi & Fantasy   \n55                              Reality TV   \n67                   Kids' TV, TV Comedies   \n82  Crime TV Shows, TV Comedies, TV Dramas   \n\n                                          description  \n15  Students of color navigate the daily slights a...  \n40  Mighty teen Adam and his heroic squad of misfi...  \n55  Home bakers with a terrible track record take ...  \n67  From middle school to college, best friends Za...  \n82  Bored with being the Lord of Hell, the devil r...  ",
      "text/html": "<div>\n<style scoped>\n    .dataframe tbody tr th:only-of-type {\n        vertical-align: middle;\n    }\n\n    .dataframe tbody tr th {\n        vertical-align: top;\n    }\n\n    .dataframe thead th {\n        text-align: right;\n    }\n</style>\n<table border=\"1\" class=\"dataframe\">\n  <thead>\n    <tr style=\"text-align: right;\">\n      <th></th>\n      <th>show_id</th>\n      <th>type</th>\n      <th>title</th>\n      <th>director</th>\n      <th>cast</th>\n      <th>country</th>\n      <th>date_added</th>\n      <th>release_year</th>\n      <th>rating</th>\n      <th>duration</th>\n      <th>listed_in</th>\n      <th>description</th>\n    </tr>\n  </thead>\n  <tbody>\n    <tr>\n      <th>15</th>\n      <td>s16</td>\n      <td>TV Show</td>\n      <td>Dear White People</td>\n      <td>NaN</td>\n      <td>Logan Browning, Brandon P. Bell, DeRon Horton,...</td>\n      <td>United States</td>\n      <td>September 22, 2021</td>\n      <td>2021</td>\n      <td>TV-MA</td>\n      <td>4 Seasons</td>\n      <td>TV Comedies, TV Dramas</td>\n      <td>Students of color navigate the daily slights a...</td>\n    </tr>\n    <tr>\n      <th>40</th>\n      <td>s41</td>\n      <td>TV Show</td>\n      <td>He-Man and the Masters of the Universe</td>\n      <td>NaN</td>\n      <td>Yuri Lowenthal, Kimberly Brooks, Antony Del Ri...</td>\n      <td>United States</td>\n      <td>September 16, 2021</td>\n      <td>2021</td>\n      <td>TV-Y7</td>\n      <td>1 Season</td>\n      <td>Kids' TV, TV Sci-Fi &amp; Fantasy</td>\n      <td>Mighty teen Adam and his heroic squad of misfi...</td>\n    </tr>\n    <tr>\n      <th>55</th>\n      <td>s56</td>\n      <td>TV Show</td>\n      <td>Nailed It</td>\n      <td>NaN</td>\n      <td>Nicole Byer, Jacques Torres</td>\n      <td>United States</td>\n      <td>September 15, 2021</td>\n      <td>2021</td>\n      <td>TV-PG</td>\n      <td>6 Seasons</td>\n      <td>Reality TV</td>\n      <td>Home bakers with a terrible track record take ...</td>\n    </tr>\n    <tr>\n      <th>67</th>\n      <td>s68</td>\n      <td>TV Show</td>\n      <td>Saved by the Bell</td>\n      <td>NaN</td>\n      <td>Mark-Paul Gosselaar, Tiffani Thiessen, Mario L...</td>\n      <td>United States</td>\n      <td>September 15, 2021</td>\n      <td>1994</td>\n      <td>TV-PG</td>\n      <td>9 Seasons</td>\n      <td>Kids' TV, TV Comedies</td>\n      <td>From middle school to college, best friends Za...</td>\n    </tr>\n    <tr>\n      <th>82</th>\n      <td>s83</td>\n      <td>TV Show</td>\n      <td>Lucifer</td>\n      <td>NaN</td>\n      <td>Tom Ellis, Lauren German, Kevin Alejandro, D.B...</td>\n      <td>United States</td>\n      <td>September 10, 2021</td>\n      <td>2021</td>\n      <td>TV-14</td>\n      <td>6 Seasons</td>\n      <td>Crime TV Shows, TV Comedies, TV Dramas</td>\n      <td>Bored with being the Lord of Hell, the devil r...</td>\n    </tr>\n  </tbody>\n</table>\n</div>"
     },
     "execution_count": 17,
     "metadata": {},
     "output_type": "execute_result"
    }
   ],
   "source": [
    "dfTV_Show=df[df.country==\"United States\"]\n",
    "dfTV_Show=dfTV_Show[dfTV_Show.type==\"TV Show\"]\n",
    "dfTV_Show.head()"
   ],
   "metadata": {
    "collapsed": false
   }
  },
  {
   "cell_type": "code",
   "execution_count": 18,
   "outputs": [
    {
     "data": {
      "text/plain": "     show_id     type                                title  \\\n0         s1    Movie                 Dick Johnson Is Dead   \n1         s2  TV Show                        Blood & Water   \n2         s3  TV Show                            Ganglands   \n3         s4  TV Show                Jailbirds New Orleans   \n4         s5  TV Show                         Kota Factory   \n...      ...      ...                                  ...   \n2492   s2493    Movie  The Witness Who Didn't See Anything   \n2721   s2722    Movie                               Duniya   \n2723   s2724    Movie                           Friendship   \n2738   s2739    Movie                   Muqaddar ka Faisla   \n2740   s2741  TV Show                          Saint Seiya   \n\n                         director  \n0                 Kirsten Johnson  \n1                             NaN  \n2                 Julien Leclercq  \n3                             NaN  \n4                             NaN  \n...                           ...  \n2492  Muhammad Fadl, Hany Motawie  \n2721                Ramesh Talwar  \n2723                   Raj Khosla  \n2738                Prakash Mehra  \n2740                          NaN  \n\n[220 rows x 4 columns]",
      "text/html": "<div>\n<style scoped>\n    .dataframe tbody tr th:only-of-type {\n        vertical-align: middle;\n    }\n\n    .dataframe tbody tr th {\n        vertical-align: top;\n    }\n\n    .dataframe thead th {\n        text-align: right;\n    }\n</style>\n<table border=\"1\" class=\"dataframe\">\n  <thead>\n    <tr style=\"text-align: right;\">\n      <th></th>\n      <th>show_id</th>\n      <th>type</th>\n      <th>title</th>\n      <th>director</th>\n    </tr>\n  </thead>\n  <tbody>\n    <tr>\n      <th>0</th>\n      <td>s1</td>\n      <td>Movie</td>\n      <td>Dick Johnson Is Dead</td>\n      <td>Kirsten Johnson</td>\n    </tr>\n    <tr>\n      <th>1</th>\n      <td>s2</td>\n      <td>TV Show</td>\n      <td>Blood &amp; Water</td>\n      <td>NaN</td>\n    </tr>\n    <tr>\n      <th>2</th>\n      <td>s3</td>\n      <td>TV Show</td>\n      <td>Ganglands</td>\n      <td>Julien Leclercq</td>\n    </tr>\n    <tr>\n      <th>3</th>\n      <td>s4</td>\n      <td>TV Show</td>\n      <td>Jailbirds New Orleans</td>\n      <td>NaN</td>\n    </tr>\n    <tr>\n      <th>4</th>\n      <td>s5</td>\n      <td>TV Show</td>\n      <td>Kota Factory</td>\n      <td>NaN</td>\n    </tr>\n    <tr>\n      <th>...</th>\n      <td>...</td>\n      <td>...</td>\n      <td>...</td>\n      <td>...</td>\n    </tr>\n    <tr>\n      <th>2492</th>\n      <td>s2493</td>\n      <td>Movie</td>\n      <td>The Witness Who Didn't See Anything</td>\n      <td>Muhammad Fadl, Hany Motawie</td>\n    </tr>\n    <tr>\n      <th>2721</th>\n      <td>s2722</td>\n      <td>Movie</td>\n      <td>Duniya</td>\n      <td>Ramesh Talwar</td>\n    </tr>\n    <tr>\n      <th>2723</th>\n      <td>s2724</td>\n      <td>Movie</td>\n      <td>Friendship</td>\n      <td>Raj Khosla</td>\n    </tr>\n    <tr>\n      <th>2738</th>\n      <td>s2739</td>\n      <td>Movie</td>\n      <td>Muqaddar ka Faisla</td>\n      <td>Prakash Mehra</td>\n    </tr>\n    <tr>\n      <th>2740</th>\n      <td>s2741</td>\n      <td>TV Show</td>\n      <td>Saint Seiya</td>\n      <td>NaN</td>\n    </tr>\n  </tbody>\n</table>\n<p>220 rows × 4 columns</p>\n</div>"
     },
     "execution_count": 18,
     "metadata": {},
     "output_type": "execute_result"
    }
   ],
   "source": [
    "dfOrdenado=df.groupby(by=\"release_year\")[['show_id','type','title','director']]\n",
    "dfOrdenado.head()"
   ],
   "metadata": {
    "collapsed": false
   }
  }
 ],
 "metadata": {
  "kernelspec": {
   "display_name": "Python 3",
   "language": "python",
   "name": "python3"
  },
  "language_info": {
   "codemirror_mode": {
    "name": "ipython",
    "version": 2
   },
   "file_extension": ".py",
   "mimetype": "text/x-python",
   "name": "python",
   "nbconvert_exporter": "python",
   "pygments_lexer": "ipython2",
   "version": "2.7.6"
  }
 },
 "nbformat": 4,
 "nbformat_minor": 0
}
